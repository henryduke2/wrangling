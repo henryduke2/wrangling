{
  "cells": [
    {
      "cell_type": "markdown",
      "id": "13ad028b-72b7-43ed-aa78-96fd4e518040",
      "metadata": {
        "id": "13ad028b-72b7-43ed-aa78-96fd4e518040"
      },
      "source": [
        "# Assignment: Data Wrangling\n",
        "### `! git clone https://github.com/ds4e/wrangling`\n",
        "### Do Q1 and Q2, and either Q3 or Q4, for a total of 3 questions."
      ]
    },
    {
      "cell_type": "markdown",
      "id": "da879ea7-8aac-48a3-b6c2-daea56d2e072",
      "metadata": {
        "id": "da879ea7-8aac-48a3-b6c2-daea56d2e072"
      },
      "source": [
        "**Q1.** This question provides some practice cleaning variables which have common problems.\n",
        "1. Numeric variable: For `./data/airbnb_hw.csv`, clean the `Price` variable as well as you can, and explain the choices you make. How many missing values do you end up with? (Hint: What happens to the formatting when a price goes over 999 dollars, say from 675 to 1,112?)\n",
        "2. Categorical variable: For the Minnesota police use of for data, `./data/mn_police_use_of_force.csv`, clean the `subject_injury` variable, handling the NA's; this gives a value `Yes` when a person was injured by police, and `No` when no injury occurred. What proportion of the values are missing? Is this a concern? Cross-tabulate your cleaned `subject_injury` variable with the `force_type` variable. Are there any patterns regarding when the data are missing?\n",
        "3. Dummy variable: For the pretrial data covered in the lecture, clean the `WhetherDefendantWasReleasedPretrial` variable as well as you can, and, in particular, replace missing values with `np.nan`.\n",
        "4. Missing values, not at random: For the pretrial data covered in the lecture, clean the `ImposedSentenceAllChargeInContactEvent` variable as well as you can, and explain the choices you make. (Hint: Look at the `SentenceTypeAllChargesAtConvictionInContactEvent` variable.)"
      ]
    },
    {
      "cell_type": "code",
      "source": [
        "import numpy as np # Import the numpy package into your workspace\n",
        "import matplotlib.pyplot as plt # Import matplotlib into your workspace\n",
        "import pandas as pd  # Import the pandas package into your workspace"
      ],
      "metadata": {
        "id": "svXMv8sbCvYh"
      },
      "id": "svXMv8sbCvYh",
      "execution_count": null,
      "outputs": []
    },
    {
      "cell_type": "code",
      "source": [
        "df = pd.read_csv('/content/airbnb_hw.csv')"
      ],
      "metadata": {
        "id": "5FUf5gLeEMhl"
      },
      "id": "5FUf5gLeEMhl",
      "execution_count": null,
      "outputs": []
    },
    {
      "cell_type": "code",
      "source": [
        "print(df.shape, '\\n') # List the dimensions of df\n",
        "print(df.dtypes, '\\n') # The types of the variables; `object` is a bad sign\n",
        "print(df.columns, '\\n') # Column names"
      ],
      "metadata": {
        "colab": {
          "base_uri": "https://localhost:8080/"
        },
        "id": "PTard9NGGMsO",
        "outputId": "89e0e19f-2ef6-47e3-e137-0f26485bad19"
      },
      "id": "PTard9NGGMsO",
      "execution_count": null,
      "outputs": [
        {
          "output_type": "stream",
          "name": "stdout",
          "text": [
            "(30478, 13) \n",
            "\n",
            "Host Id                         int64\n",
            "Host Since                     object\n",
            "Name                           object\n",
            "Neighbourhood                  object\n",
            "Property Type                  object\n",
            "Review Scores Rating (bin)    float64\n",
            "Room Type                      object\n",
            "Zipcode                       float64\n",
            "Beds                          float64\n",
            "Number of Records               int64\n",
            "Number Of Reviews               int64\n",
            "Price                          object\n",
            "Review Scores Rating          float64\n",
            "dtype: object \n",
            "\n",
            "Index(['Host Id', 'Host Since', 'Name', 'Neighbourhood ', 'Property Type',\n",
            "       'Review Scores Rating (bin)', 'Room Type', 'Zipcode', 'Beds',\n",
            "       'Number of Records', 'Number Of Reviews', 'Price',\n",
            "       'Review Scores Rating'],\n",
            "      dtype='object') \n",
            "\n"
          ]
        }
      ]
    },
    {
      "cell_type": "code",
      "source": [
        "df['Price'] = pd.to_numeric(df['Price'], errors='coerce') # Coerce the variable to numeric\n",
        "\n",
        "# Create a missing dummy:\n",
        "df['Price_nan'] = df['Price'].isnull() # Equals 1 if missing, 0 if non-null\n",
        "\n",
        "# After coercion:\n",
        "print('After coercion: \\n', df['Price'].describe(),'\\n') # Describe the numeric variable\n",
        "df['Price'].hist(bins = 50) # Histogram of the variable values\n",
        "print('Total Missings: \\n', sum(df['Price_nan']),'\\n') # How many missing values are there?\n",
        "\n",
        "impute_value = df['Price'].median() # Or mean, or whatever\n",
        "\n",
        "df['Price_impute'] = df['Price'].fillna(impute_value)\n",
        "df['Price_impute'].hist(bins = 50)"
      ],
      "metadata": {
        "colab": {
          "base_uri": "https://localhost:8080/",
          "height": 690
        },
        "id": "R_UMtc9IGU4X",
        "outputId": "9527169c-0c57-49b8-99de-76d3b321ce27"
      },
      "id": "R_UMtc9IGU4X",
      "execution_count": null,
      "outputs": [
        {
          "output_type": "stream",
          "name": "stdout",
          "text": [
            "After coercion: \n",
            " count    30297.000000\n",
            "mean       153.357032\n",
            "std        108.895698\n",
            "min         10.000000\n",
            "25%         80.000000\n",
            "50%        125.000000\n",
            "75%        192.000000\n",
            "max        999.000000\n",
            "Name: Price, dtype: float64 \n",
            "\n",
            "Total Missings: \n",
            " 181 \n",
            "\n"
          ]
        },
        {
          "output_type": "execute_result",
          "data": {
            "text/plain": [
              "<Axes: >"
            ]
          },
          "metadata": {},
          "execution_count": 9
        },
        {
          "output_type": "display_data",
          "data": {
            "text/plain": [
              "<Figure size 640x480 with 1 Axes>"
            ],
            "image/png": "[encoded data removed]"
          },
          "metadata": {}
        }
      ]
    },
    {
      "cell_type": "markdown",
      "source": [
        "To clean the price variable, I changed the data type from a string to a numeric. I also created a dummy variable for the missing values and got 181 prices that are missing. To handle these missing values, I filled the Price NA's with the median Price"
      ],
      "metadata": {
        "id": "qRT8D5szgk7Y"
      },
      "id": "qRT8D5szgk7Y"
    },
    {
      "cell_type": "code",
      "source": [
        "q1b_df = pd.read_csv('/content/mn_police_use_of_force.csv')\n",
        "\n",
        "var = 'subject_injury' # A Categorical Example\n",
        "print(q1b_df[var].unique(), '\\n') # A Categorical Example\n",
        "print(q1b_df[var].value_counts(), '\\n')\n",
        "\n",
        "q1b_df['si_nan'] = q1b_df[var].isnull() # Equals 1 if missing, 0 if non-null\n",
        "print('Total Missings: \\n', sum(q1b_df['si_nan']),'\\n') # How many missing values are there?\n",
        "\n",
        "print('Proportion of Missing Values: \\n', sum(q1b_df['si_nan'])/q1b_df.shape[0],'\\n')\n",
        "\n",
        "pd.crosstab(q1b_df['subject_injury'], q1b_df['force_type']) # Notice the use of pd. and not df.\n",
        "\n"
      ],
      "metadata": {
        "colab": {
          "base_uri": "https://localhost:8080/",
          "height": 424
        },
        "id": "5RpgvS4Ah1gq",
        "outputId": "699955e9-8a92-41f6-a2d3-6bd6d90e4e74"
      },
      "id": "5RpgvS4Ah1gq",
      "execution_count": null,
      "outputs": [
        {
          "output_type": "stream",
          "name": "stdout",
          "text": [
            "[nan 'No' 'Yes'] \n",
            "\n",
            "subject_injury\n",
            "Yes    1631\n",
            "No     1446\n",
            "Name: count, dtype: int64 \n",
            "\n",
            "Total Missings: \n",
            " 9848 \n",
            "\n",
            "Proportion of Missing Values: \n",
            " 0.7619342359767892 \n",
            "\n"
          ]
        },
        {
          "output_type": "execute_result",
          "data": {
            "text/plain": [
              "force_type      Baton  Bodily Force  Chemical Irritant  Firearm  \\\n",
              "subject_injury                                                    \n",
              "No                  0          1093                131        2   \n",
              "Yes                 2          1286                 41        0   \n",
              "\n",
              "force_type      Gun Point Display  Improvised Weapon  Less Lethal Projectile  \\\n",
              "subject_injury                                                                 \n",
              "No                             33                 34                       1   \n",
              "Yes                            44                 40                       2   \n",
              "\n",
              "force_type      Police K9 Bite  Taser  \n",
              "subject_injury                         \n",
              "No                           2    150  \n",
              "Yes                         44    172  "
            ],
            "text/html": [
              "\n",
              "  <div id=\"df-f7d94a20-1ca2-4024-88f4-2b7e4f2f810d\" class=\"colab-df-container\">\n",
              "    <div>\n",
              "<style scoped>\n",
              "    .dataframe tbody tr th:only-of-type {\n",
              "        vertical-align: middle;\n",
              "    }\n",
              "\n",
              "    .dataframe tbody tr th {\n",
              "        vertical-align: top;\n",
              "    }\n",
              "\n",
              "    .dataframe thead th {\n",
              "        text-align: right;\n",
              "    }\n",
              "</style>\n",
              "<table border=\"1\" class=\"dataframe\">\n",
              "  <thead>\n",
              "    <tr style=\"text-align: right;\">\n",
              "      <th>force_type</th>\n",
              "      <th>Baton</th>\n",
              "      <th>Bodily Force</th>\n",
              "      <th>Chemical Irritant</th>\n",
              "      <th>Firearm</th>\n",
              "      <th>Gun Point Display</th>\n",
              "      <th>Improvised Weapon</th>\n",
              "      <th>Less Lethal Projectile</th>\n",
              "      <th>Police K9 Bite</th>\n",
              "      <th>Taser</th>\n",
              "    </tr>\n",
              "    <tr>\n",
              "      <th>subject_injury</th>\n",
              "      <th></th>\n",
              "      <th></th>\n",
              "      <th></th>\n",
              "      <th></th>\n",
              "      <th></th>\n",
              "      <th></th>\n",
              "      <th></th>\n",
              "      <th></th>\n",
              "      <th></th>\n",
              "    </tr>\n",
              "  </thead>\n",
              "  <tbody>\n",
              "    <tr>\n",
              "      <th>No</th>\n",
              "      <td>0</td>\n",
              "      <td>1093</td>\n",
              "      <td>131</td>\n",
              "      <td>2</td>\n",
              "      <td>33</td>\n",
              "      <td>34</td>\n",
              "      <td>1</td>\n",
              "      <td>2</td>\n",
              "      <td>150</td>\n",
              "    </tr>\n",
              "    <tr>\n",
              "      <th>Yes</th>\n",
              "      <td>2</td>\n",
              "      <td>1286</td>\n",
              "      <td>41</td>\n",
              "      <td>0</td>\n",
              "      <td>44</td>\n",
              "      <td>40</td>\n",
              "      <td>2</td>\n",
              "      <td>44</td>\n",
              "      <td>172</td>\n",
              "    </tr>\n",
              "  </tbody>\n",
              "</table>\n",
              "</div>\n",
              "    <div class=\"colab-df-buttons\">\n",
              "\n",
              "  <div class=\"colab-df-container\">\n",
              "    <button class=\"colab-df-convert\" onclick=\"convertToInteractive('df-f7d94a20-1ca2-4024-88f4-2b7e4f2f810d')\"\n",
              "            title=\"Convert this dataframe to an interactive table.\"\n",
              "            style=\"display:none;\">\n",
              "\n",
              "  <svg xmlns=\"http://www.w3.org/2000/svg\" height=\"24px\" viewBox=\"0 -960 960 960\">\n",
              "    <path d=\"M120-120v-720h720v720H120Zm60-500h600v-160H180v160Zm220 220h160v-160H400v160Zm0 220h160v-160H400v160ZM180-400h160v-160H180v160Zm440 0h160v-160H620v160ZM180-180h160v-160H180v160Zm440 0h160v-160H620v160Z\"/>\n",
              "  </svg>\n",
              "    </button>\n",
              "\n",
              "  <style>\n",
              "    .colab-df-container {\n",
              "      display:flex;\n",
              "      gap: 12px;\n",
              "    }\n",
              "\n",
              "    .colab-df-convert {\n",
              "      background-color: #E8F0FE;\n",
              "      border: none;\n",
              "      border-radius: 50%;\n",
              "      cursor: pointer;\n",
              "      display: none;\n",
              "      fill: #1967D2;\n",
              "      height: 32px;\n",
              "      padding: 0 0 0 0;\n",
              "      width: 32px;\n",
              "    }\n",
              "\n",
              "    .colab-df-convert:hover {\n",
              "      background-color: #E2EBFA;\n",
              "      box-shadow: 0px 1px 2px rgba(60, 64, 67, 0.3), 0px 1px 3px 1px rgba(60, 64, 67, 0.15);\n",
              "      fill: #174EA6;\n",
              "    }\n",
              "\n",
              "    .colab-df-buttons div {\n",
              "      margin-bottom: 4px;\n",
              "    }\n",
              "\n",
              "    [theme=dark] .colab-df-convert {\n",
              "      background-color: #3B4455;\n",
              "      fill: #D2E3FC;\n",
              "    }\n",
              "\n",
              "    [theme=dark] .colab-df-convert:hover {\n",
              "      background-color: #434B5C;\n",
              "      box-shadow: 0px 1px 3px 1px rgba(0, 0, 0, 0.15);\n",
              "      filter: drop-shadow(0px 1px 2px rgba(0, 0, 0, 0.3));\n",
              "      fill: #FFFFFF;\n",
              "    }\n",
              "  </style>\n",
              "\n",
              "    <script>\n",
              "      const buttonEl =\n",
              "        document.querySelector('#df-f7d94a20-1ca2-4024-88f4-2b7e4f2f810d button.colab-df-convert');\n",
              "      buttonEl.style.display =\n",
              "        google.colab.kernel.accessAllowed ? 'block' : 'none';\n",
              "\n",
              "      async function convertToInteractive(key) {\n",
              "        const element = document.querySelector('#df-f7d94a20-1ca2-4024-88f4-2b7e4f2f810d');\n",
              "        const dataTable =\n",
              "          await google.colab.kernel.invokeFunction('convertToInteractive',\n",
              "                                                    [key], {});\n",
              "        if (!dataTable) return;\n",
              "\n",
              "        const docLinkHtml = 'Like what you see? Visit the ' +\n",
              "          '<a target=\"_blank\" href=https://colab.research.google.com/notebooks/data_table.ipynb>data table notebook</a>'\n",
              "          + ' to learn more about interactive tables.';\n",
              "        element.innerHTML = '';\n",
              "        dataTable['output_type'] = 'display_data';\n",
              "        await google.colab.output.renderOutput(dataTable, element);\n",
              "        const docLink = document.createElement('div');\n",
              "        docLink.innerHTML = docLinkHtml;\n",
              "        element.appendChild(docLink);\n",
              "      }\n",
              "    </script>\n",
              "  </div>\n",
              "\n",
              "\n",
              "<div id=\"df-7b34a08d-d819-416b-a457-7b586111181a\">\n",
              "  <button class=\"colab-df-quickchart\" onclick=\"quickchart('df-7b34a08d-d819-416b-a457-7b586111181a')\"\n",
              "            title=\"Suggest charts\"\n",
              "            style=\"display:none;\">\n",
              "\n",
              "<svg xmlns=\"http://www.w3.org/2000/svg\" height=\"24px\"viewBox=\"0 0 24 24\"\n",
              "     width=\"24px\">\n",
              "    <g>\n",
              "        <path d=\"M19 3H5c-1.1 0-2 .9-2 2v14c0 1.1.9 2 2 2h14c1.1 0 2-.9 2-2V5c0-1.1-.9-2-2-2zM9 17H7v-7h2v7zm4 0h-2V7h2v10zm4 0h-2v-4h2v4z\"/>\n",
              "    </g>\n",
              "</svg>\n",
              "  </button>\n",
              "\n",
              "<style>\n",
              "  .colab-df-quickchart {\n",
              "      --bg-color: #E8F0FE;\n",
              "      --fill-color: #1967D2;\n",
              "      --hover-bg-color: #E2EBFA;\n",
              "      --hover-fill-color: #174EA6;\n",
              "      --disabled-fill-color: #AAA;\n",
              "      --disabled-bg-color: #DDD;\n",
              "  }\n",
              "\n",
              "  [theme=dark] .colab-df-quickchart {\n",
              "      --bg-color: #3B4455;\n",
              "      --fill-color: #D2E3FC;\n",
              "      --hover-bg-color: #434B5C;\n",
              "      --hover-fill-color: #FFFFFF;\n",
              "      --disabled-bg-color: #3B4455;\n",
              "      --disabled-fill-color: #666;\n",
              "  }\n",
              "\n",
              "  .colab-df-quickchart {\n",
              "    background-color: var(--bg-color);\n",
              "    border: none;\n",
              "    border-radius: 50%;\n",
              "    cursor: pointer;\n",
              "    display: none;\n",
              "    fill: var(--fill-color);\n",
              "    height: 32px;\n",
              "    padding: 0;\n",
              "    width: 32px;\n",
              "  }\n",
              "\n",
              "  .colab-df-quickchart:hover {\n",
              "    background-color: var(--hover-bg-color);\n",
              "    box-shadow: 0 1px 2px rgba(60, 64, 67, 0.3), 0 1px 3px 1px rgba(60, 64, 67, 0.15);\n",
              "    fill: var(--button-hover-fill-color);\n",
              "  }\n",
              "\n",
              "  .colab-df-quickchart-complete:disabled,\n",
              "  .colab-df-quickchart-complete:disabled:hover {\n",
              "    background-color: var(--disabled-bg-color);\n",
              "    fill: var(--disabled-fill-color);\n",
              "    box-shadow: none;\n",
              "  }\n",
              "\n",
              "  .colab-df-spinner {\n",
              "    border: 2px solid var(--fill-color);\n",
              "    border-color: transparent;\n",
              "    border-bottom-color: var(--fill-color);\n",
              "    animation:\n",
              "      spin 1s steps(1) infinite;\n",
              "  }\n",
              "\n",
              "  @keyframes spin {\n",
              "    0% {\n",
              "      border-color: transparent;\n",
              "      border-bottom-color: var(--fill-color);\n",
              "      border-left-color: var(--fill-color);\n",
              "    }\n",
              "    20% {\n",
              "      border-color: transparent;\n",
              "      border-left-color: var(--fill-color);\n",
              "      border-top-color: var(--fill-color);\n",
              "    }\n",
              "    30% {\n",
              "      border-color: transparent;\n",
              "      border-left-color: var(--fill-color);\n",
              "      border-top-color: var(--fill-color);\n",
              "      border-right-color: var(--fill-color);\n",
              "    }\n",
              "    40% {\n",
              "      border-color: transparent;\n",
              "      border-right-color: var(--fill-color);\n",
              "      border-top-color: var(--fill-color);\n",
              "    }\n",
              "    60% {\n",
              "      border-color: transparent;\n",
              "      border-right-color: var(--fill-color);\n",
              "    }\n",
              "    80% {\n",
              "      border-color: transparent;\n",
              "      border-right-color: var(--fill-color);\n",
              "      border-bottom-color: var(--fill-color);\n",
              "    }\n",
              "    90% {\n",
              "      border-color: transparent;\n",
              "      border-bottom-color: var(--fill-color);\n",
              "    }\n",
              "  }\n",
              "</style>\n",
              "\n",
              "  <script>\n",
              "    async function quickchart(key) {\n",
              "      const quickchartButtonEl =\n",
              "        document.querySelector('#' + key + ' button');\n",
              "      quickchartButtonEl.disabled = true;  // To prevent multiple clicks.\n",
              "      quickchartButtonEl.classList.add('colab-df-spinner');\n",
              "      try {\n",
              "        const charts = await google.colab.kernel.invokeFunction(\n",
              "            'suggestCharts', [key], {});\n",
              "      } catch (error) {\n",
              "        console.error('Error during call to suggestCharts:', error);\n",
              "      }\n",
              "      quickchartButtonEl.classList.remove('colab-df-spinner');\n",
              "      quickchartButtonEl.classList.add('colab-df-quickchart-complete');\n",
              "    }\n",
              "    (() => {\n",
              "      let quickchartButtonEl =\n",
              "        document.querySelector('#df-7b34a08d-d819-416b-a457-7b586111181a button');\n",
              "      quickchartButtonEl.style.display =\n",
              "        google.colab.kernel.accessAllowed ? 'block' : 'none';\n",
              "    })();\n",
              "  </script>\n",
              "</div>\n",
              "\n",
              "    </div>\n",
              "  </div>\n"
            ],
            "application/vnd.google.colaboratory.intrinsic+json": {
              "type": "dataframe",
              "summary": "{\n  \"name\": \"pd\",\n  \"rows\": 2,\n  \"fields\": [\n    {\n      \"column\": \"subject_injury\",\n      \"properties\": {\n        \"dtype\": \"string\",\n        \"num_unique_values\": 2,\n        \"samples\": [\n          \"Yes\",\n          \"No\"\n        ],\n        \"semantic_type\": \"\",\n        \"description\": \"\"\n      }\n    },\n    {\n      \"column\": \"Baton\",\n      \"properties\": {\n        \"dtype\": \"number\",\n        \"std\": 1,\n        \"min\": 0,\n        \"max\": 2,\n        \"num_unique_values\": 2,\n        \"samples\": [\n          2,\n          0\n        ],\n        \"semantic_type\": \"\",\n        \"description\": \"\"\n      }\n    },\n    {\n      \"column\": \"Bodily Force\",\n      \"properties\": {\n        \"dtype\": \"number\",\n        \"std\": 136,\n        \"min\": 1093,\n        \"max\": 1286,\n        \"num_unique_values\": 2,\n        \"samples\": [\n          1286,\n          1093\n        ],\n        \"semantic_type\": \"\",\n        \"description\": \"\"\n      }\n    },\n    {\n      \"column\": \"Chemical Irritant\",\n      \"properties\": {\n        \"dtype\": \"number\",\n        \"std\": 63,\n        \"min\": 41,\n        \"max\": 131,\n        \"num_unique_values\": 2,\n        \"samples\": [\n          41,\n          131\n        ],\n        \"semantic_type\": \"\",\n        \"description\": \"\"\n      }\n    },\n    {\n      \"column\": \"Firearm\",\n      \"properties\": {\n        \"dtype\": \"number\",\n        \"std\": 1,\n        \"min\": 0,\n        \"max\": 2,\n        \"num_unique_values\": 2,\n        \"samples\": [\n          0,\n          2\n        ],\n        \"semantic_type\": \"\",\n        \"description\": \"\"\n      }\n    },\n    {\n      \"column\": \"Gun Point Display\",\n      \"properties\": {\n        \"dtype\": \"number\",\n        \"std\": 7,\n        \"min\": 33,\n        \"max\": 44,\n        \"num_unique_values\": 2,\n        \"samples\": [\n          44,\n          33\n        ],\n        \"semantic_type\": \"\",\n        \"description\": \"\"\n      }\n    },\n    {\n      \"column\": \"Improvised Weapon\",\n      \"properties\": {\n        \"dtype\": \"number\",\n        \"std\": 4,\n        \"min\": 34,\n        \"max\": 40,\n        \"num_unique_values\": 2,\n        \"samples\": [\n          40,\n          34\n        ],\n        \"semantic_type\": \"\",\n        \"description\": \"\"\n      }\n    },\n    {\n      \"column\": \"Less Lethal Projectile\",\n      \"properties\": {\n        \"dtype\": \"number\",\n        \"std\": 0,\n        \"min\": 1,\n        \"max\": 2,\n        \"num_unique_values\": 2,\n        \"samples\": [\n          2,\n          1\n        ],\n        \"semantic_type\": \"\",\n        \"description\": \"\"\n      }\n    },\n    {\n      \"column\": \"Police K9 Bite\",\n      \"properties\": {\n        \"dtype\": \"number\",\n        \"std\": 29,\n        \"min\": 2,\n        \"max\": 44,\n        \"num_unique_values\": 2,\n        \"samples\": [\n          44,\n          2\n        ],\n        \"semantic_type\": \"\",\n        \"description\": \"\"\n      }\n    },\n    {\n      \"column\": \"Taser\",\n      \"properties\": {\n        \"dtype\": \"number\",\n        \"std\": 15,\n        \"min\": 150,\n        \"max\": 172,\n        \"num_unique_values\": 2,\n        \"samples\": [\n          172,\n          150\n        ],\n        \"semantic_type\": \"\",\n        \"description\": \"\"\n      }\n    }\n  ]\n}"
            }
          },
          "metadata": {},
          "execution_count": 8
        }
      ]
    },
    {
      "cell_type": "markdown",
      "source": [
        "There are about three quarters of the data thats is missing. Within the data that we do have we can see some trends appearing. Most categories of force have around an even amount of injuries and non injuries. It seems that chemical irritant's have the the highest proportion of non injuries and the K9 bites seem to have the highest proportion of injuries."
      ],
      "metadata": {
        "id": "GJdEaq7x6Es4"
      },
      "id": "GJdEaq7x6Es4"
    },
    {
      "cell_type": "markdown",
      "source": [
        "Question 1: Part 3"
      ],
      "metadata": {
        "id": "ogTSPJV4rXqk"
      },
      "id": "ogTSPJV4rXqk"
    },
    {
      "cell_type": "code",
      "source": [
        "dfc = pd.read_parquet('/content/justice_data.parquet')\n",
        "dfc = dfc.rename(columns={'WhetherDefendantWasReleasedPretrial': 'released'})\n",
        "var = 'released' # A Categorical Example\n",
        "print(dfc[var].unique(), '\\n') # A Categorical Example\n",
        "print(dfc[var].value_counts(), '\\n')\n",
        "dfc[var] = dfc[var].replace( [9], np.nan) # Notice the list\n",
        "print(dfc[var].value_counts(), '\\n')\n"
      ],
      "metadata": {
        "colab": {
          "base_uri": "https://localhost:8080/"
        },
        "id": "8uhH0j5Imqsx",
        "outputId": "88412b79-3601-4357-c521-0df79c8e5211"
      },
      "id": "8uhH0j5Imqsx",
      "execution_count": null,
      "outputs": [
        {
          "output_type": "stream",
          "name": "stdout",
          "text": [
            "[9 0 1] \n",
            "\n",
            "released\n",
            "1    19154\n",
            "0     3801\n",
            "9       31\n",
            "Name: count, dtype: int64 \n",
            "\n",
            "released\n",
            "1.0    19154\n",
            "0.0     3801\n",
            "Name: count, dtype: int64 \n",
            "\n"
          ]
        }
      ]
    },
    {
      "cell_type": "markdown",
      "source": [
        "Question 1 : Part 4"
      ],
      "metadata": {
        "id": "0-Sn7bgdw78Y"
      },
      "id": "0-Sn7bgdw78Y"
    },
    {
      "cell_type": "code",
      "source": [
        "var = 'ImposedSentenceAllChargeInContactEvent' # A Categorical Example\n",
        "missing_counts = dfc[var].isnull().sum()\n",
        "print(f\"Missing values in ImposedSentenceAllChargeInContactEvent: {missing_counts}\")\n"
      ],
      "metadata": {
        "colab": {
          "base_uri": "https://localhost:8080/"
        },
        "id": "bzkQhnvnt_t1",
        "outputId": "3ea0a511-3648-4b75-fb9d-366fe6025a10"
      },
      "id": "bzkQhnvnt_t1",
      "execution_count": null,
      "outputs": [
        {
          "output_type": "stream",
          "name": "stdout",
          "text": [
            "Missing values in ImposedSentenceAllChargeInContactEvent: 9053\n"
          ]
        }
      ]
    },
    {
      "cell_type": "code",
      "source": [
        "missing_df = dfc[dfc[var].isnull()]\n",
        "print(missing_df['SentenceTypeAllChargesAtConvictionInContactEvent'].value_counts())"
      ],
      "metadata": {
        "colab": {
          "base_uri": "https://localhost:8080/"
        },
        "id": "nsNe-x-92wZd",
        "outputId": "2c2e69d8-eb75-4619-91ee-86df29f03bd7"
      },
      "id": "nsNe-x-92wZd",
      "execution_count": null,
      "outputs": [
        {
          "output_type": "stream",
          "name": "stdout",
          "text": [
            "SentenceTypeAllChargesAtConvictionInContactEvent\n",
            "4    8779\n",
            "9     274\n",
            "Name: count, dtype: int64\n"
          ]
        }
      ]
    },
    {
      "cell_type": "code",
      "source": [
        "dfc.loc[dfc['SentenceTypeAllChargesAtConvictionInContactEvent'].isin([4, 9]),\n",
        "        'ImposedSentenceAllChargeInContactEvent'] = 0\n",
        "\n",
        "\n"
      ],
      "metadata": {
        "id": "-navFyU3xC8k"
      },
      "id": "-navFyU3xC8k",
      "execution_count": null,
      "outputs": []
    },
    {
      "cell_type": "code",
      "source": [
        "print(dfc[var].isnull().sum())\n"
      ],
      "metadata": {
        "colab": {
          "base_uri": "https://localhost:8080/"
        },
        "id": "5cPABmyp5w8J",
        "outputId": "7cf17be2-fa7e-45ab-dbae-b1875befc8e8"
      },
      "id": "5cPABmyp5w8J",
      "execution_count": null,
      "outputs": [
        {
          "output_type": "stream",
          "name": "stdout",
          "text": [
            "0\n"
          ]
        }
      ]
    },
    {
      "cell_type": "markdown",
      "source": [
        "I looked at the missing values of the imposed sentence variable and then found which sentence type these imposed sentences were. All of the missing values were deferred or not applicable. I felt like 0 was a good placeholder for the missing values."
      ],
      "metadata": {
        "id": "f3m97vIg51Yb"
      },
      "id": "f3m97vIg51Yb"
    },
    {
      "cell_type": "markdown",
      "id": "5a60a44e",
      "metadata": {
        "id": "5a60a44e"
      },
      "source": [
        "**Q2.** Go to https://sharkattackfile.net/ and download their dataset on shark attacks.\n",
        "\n",
        "1. Open the shark attack file using Pandas. It is probably not a csv file, so `read_csv` won't work.\n",
        "2. Drop any columns that do not contain data.\n",
        "3. Clean the year variable. Describe the range of values you see. Filter the rows to focus on attacks since 1940. Are attacks increasing, decreasing, or remaining constant over time?\n",
        "4. Clean the Age variable and make a histogram of the ages of the victims.\n",
        "5. What proportion of victims are male?\n",
        "6. Clean the `Type` variable so it only takes three values: Provoked and Unprovoked and Unknown. What proportion of attacks are unprovoked?\n",
        "7. Clean the `Fatal Y/N` variable so it only takes three values: Y, N, and Unknown.\n",
        "8. Are sharks more likely to launch unprovoked attacks on men or women? Is the attack more or less likely to be fatal when the attack is provoked or unprovoked? Is it more or less likely to be fatal when the victim is male or female? How do you feel about sharks?\n",
        "9. What proportion of attacks appear to be by white sharks? (Hint: `str.split()` makes a vector of text values into a list of lists, split by spaces.)"
      ]
    },
    {
      "cell_type": "markdown",
      "source": [
        "Part 1"
      ],
      "metadata": {
        "id": "nmqPKcHy6oR9"
      },
      "id": "nmqPKcHy6oR9"
    },
    {
      "cell_type": "code",
      "source": [
        "pip install pandas openpyxl xlrd\n"
      ],
      "metadata": {
        "colab": {
          "base_uri": "https://localhost:8080/"
        },
        "id": "j-hrmzGN7Wdp",
        "outputId": "2fcd913d-ee5a-4d3e-b841-6923eaeca85f"
      },
      "id": "j-hrmzGN7Wdp",
      "execution_count": null,
      "outputs": [
        {
          "output_type": "stream",
          "name": "stdout",
          "text": [
            "Requirement already satisfied: pandas in /usr/local/lib/python3.11/dist-packages (2.2.2)\n",
            "Requirement already satisfied: openpyxl in /usr/local/lib/python3.11/dist-packages (3.1.5)\n",
            "Requirement already satisfied: xlrd in /usr/local/lib/python3.11/dist-packages (2.0.1)\n",
            "Requirement already satisfied: numpy>=1.23.2 in /usr/local/lib/python3.11/dist-packages (from pandas) (1.26.4)\n",
            "Requirement already satisfied: python-dateutil>=2.8.2 in /usr/local/lib/python3.11/dist-packages (from pandas) (2.8.2)\n",
            "Requirement already satisfied: pytz>=2020.1 in /usr/local/lib/python3.11/dist-packages (from pandas) (2024.2)\n",
            "Requirement already satisfied: tzdata>=2022.7 in /usr/local/lib/python3.11/dist-packages (from pandas) (2025.1)\n",
            "Requirement already satisfied: et-xmlfile in /usr/local/lib/python3.11/dist-packages (from openpyxl) (2.0.0)\n",
            "Requirement already satisfied: six>=1.5 in /usr/local/lib/python3.11/dist-packages (from python-dateutil>=2.8.2->pandas) (1.17.0)\n"
          ]
        }
      ]
    },
    {
      "cell_type": "code",
      "source": [
        "df = pd.read_excel(\"GSAF5.xls\", engine=\"xlrd\")\n"
      ],
      "metadata": {
        "id": "di2IPEcU7L_U"
      },
      "id": "di2IPEcU7L_U",
      "execution_count": null,
      "outputs": []
    },
    {
      "cell_type": "markdown",
      "source": [
        "Part 2"
      ],
      "metadata": {
        "id": "HOBlvlzV7rk_"
      },
      "id": "HOBlvlzV7rk_"
    },
    {
      "cell_type": "code",
      "source": [
        "print(df.info())  # Check columns, missing values, and data types\n",
        "print(df.head())\n",
        "\n",
        "list = ['Unnamed: 21', 'Unnamed: 22']\n",
        "new_df = df.drop(list,axis=1) # Drop only the variables on the list\n",
        "print( new_df.columns, '\\n', new_df.shape)\n",
        "\n",
        "\n",
        "\n"
      ],
      "metadata": {
        "colab": {
          "base_uri": "https://localhost:8080/"
        },
        "id": "JHLq84T27Ijg",
        "outputId": "90020e53-3815-4b27-b36a-af600b1a4846"
      },
      "id": "JHLq84T27Ijg",
      "execution_count": null,
      "outputs": [
        {
          "output_type": "stream",
          "name": "stdout",
          "text": [
            "<class 'pandas.core.frame.DataFrame'>\n",
            "RangeIndex: 6992 entries, 0 to 6991\n",
            "Data columns (total 23 columns):\n",
            " #   Column          Non-Null Count  Dtype  \n",
            "---  ------          --------------  -----  \n",
            " 0   Date            6992 non-null   object \n",
            " 1   Year            6990 non-null   float64\n",
            " 2   Type            6974 non-null   object \n",
            " 3   Country         6942 non-null   object \n",
            " 4   State           6510 non-null   object \n",
            " 5   Location        6427 non-null   object \n",
            " 6   Activity        6407 non-null   object \n",
            " 7   Name            6773 non-null   object \n",
            " 8   Sex             6413 non-null   object \n",
            " 9   Age             3998 non-null   object \n",
            " 10  Injury          6957 non-null   object \n",
            " 11  Fatal Y/N       6431 non-null   object \n",
            " 12  Time            3466 non-null   object \n",
            " 13  Species         3860 non-null   object \n",
            " 14  Source          6973 non-null   object \n",
            " 15  pdf             6799 non-null   object \n",
            " 16  href formula    6794 non-null   object \n",
            " 17  href            6796 non-null   object \n",
            " 18  Case Number     6798 non-null   object \n",
            " 19  Case Number.1   6797 non-null   object \n",
            " 20  original order  6799 non-null   float64\n",
            " 21  Unnamed: 21     1 non-null      object \n",
            " 22  Unnamed: 22     2 non-null      object \n",
            "dtypes: float64(2), object(21)\n",
            "memory usage: 1.2+ MB\n",
            "None\n",
            "                  Date    Year        Type        Country              State  \\\n",
            "0  2025-01-23 00:00:00  2025.0  Unprovoked      Australia  Western Australia   \n",
            "1  2025-01-22 00:00:00  2025.0  Unprovoked      Australia  Western Australia   \n",
            "2  2025-01-11 00:00:00  2025.0    Provoked            USA             Hawaii   \n",
            "3  2025-01-02 00:00:00  2025.0  Unprovoked  New Caledonia       Grande Terre   \n",
            "4  2025-01-02 00:00:00  2025.0  Unprovoked      Australia    South Australia   \n",
            "\n",
            "                                  Location      Activity  \\\n",
            "0                           Shipwreck Cove       Bathing   \n",
            "1                           Cheynes beach        Surfing   \n",
            "2            Off Haleiwa Boat Harbour Oahu        Diving   \n",
            "3              Islet of Kendek near Koumac  Spearfishing   \n",
            "4  Granites Beach near Westall Streaky Bay       Surfing   \n",
            "\n",
            "                                     Name Sex Age  ...  \\\n",
            "0                                    Boy    M  12  ...   \n",
            "1                             Dale Kittow   M  37  ...   \n",
            "2  Male not stated was a dive tour worker   M  23  ...   \n",
            "3                        Robert Cuewapuru   M  40  ...   \n",
            "4                           Lance Appleby   M  28  ...   \n",
            "\n",
            "                                 Species   \\\n",
            "0                              Not stated   \n",
            "1                           Bronze whaler   \n",
            "2                              Not stated   \n",
            "3          Reportedly Tiger or Bull shark   \n",
            "4  Great White Shart estimated 4.8m 16 ft   \n",
            "\n",
            "                                              Source  pdf href formula href  \\\n",
            "0                                     Bob Myatt GSAF  NaN          NaN  NaN   \n",
            "1                                     Bob Myatt GSAF  NaN          NaN  NaN   \n",
            "2                  Kevin McMurray Trackingsharks.com  NaN          NaN  NaN   \n",
            "3                      Johannes Marchand Todd Smith   NaN          NaN  NaN   \n",
            "4  Glen Folkard: Simon De Marchi News.com.au: The...  NaN          NaN  NaN   \n",
            "\n",
            "  Case Number Case Number.1 original order Unnamed: 21 Unnamed: 22  \n",
            "0         NaN           NaN            NaN         NaN         NaN  \n",
            "1         NaN           NaN            NaN         NaN         NaN  \n",
            "2         NaN           NaN            NaN         NaN         NaN  \n",
            "3         NaN           NaN            NaN         NaN         NaN  \n",
            "4         NaN           NaN            NaN         NaN         NaN  \n",
            "\n",
            "[5 rows x 23 columns]\n",
            "Index(['Date', 'Year', 'Type', 'Country', 'State', 'Location', 'Activity',\n",
            "       'Name', 'Sex', 'Age', 'Injury', 'Fatal Y/N', 'Time', 'Species ',\n",
            "       'Source', 'pdf', 'href formula', 'href', 'Case Number', 'Case Number.1',\n",
            "       'original order'],\n",
            "      dtype='object') \n",
            " (6992, 21)\n"
          ]
        }
      ]
    },
    {
      "cell_type": "markdown",
      "source": [
        "Part 3"
      ],
      "metadata": {
        "id": "zsBmy1_o-b6o"
      },
      "id": "zsBmy1_o-b6o"
    },
    {
      "cell_type": "code",
      "source": [
        "print(new_df['Year'].unique())\n",
        "\n"
      ],
      "metadata": {
        "colab": {
          "base_uri": "https://localhost:8080/"
        },
        "id": "dS0DT4ZV-eQq",
        "outputId": "78dc8d28-80ec-4a8c-8109-1d598d347494"
      },
      "id": "dS0DT4ZV-eQq",
      "execution_count": null,
      "outputs": [
        {
          "output_type": "stream",
          "name": "stdout",
          "text": [
            "[2025. 2024. 2026. 2023. 2022. 2021. 2020. 2019. 2018. 2017.   nan 2016.\n",
            " 2015. 2014. 2013. 2012. 2011. 2010. 2009. 2008. 2007. 2006. 2005. 2004.\n",
            " 2003. 2002. 2001. 2000. 1999. 1998. 1997. 1996. 1995. 1984. 1994. 1993.\n",
            " 1992. 1991. 1990. 1989. 1969. 1988. 1987. 1986. 1985. 1983. 1982. 1981.\n",
            " 1980. 1979. 1978. 1977. 1976. 1975. 1974. 1973. 1972. 1971. 1970. 1968.\n",
            " 1967. 1966. 1965. 1964. 1963. 1962. 1961. 1960. 1959. 1958. 1957. 1956.\n",
            " 1955. 1954. 1953. 1952. 1951. 1950. 1949. 1948. 1848. 1947. 1946. 1945.\n",
            " 1944. 1943. 1942. 1941. 1940. 1939. 1938. 1937. 1936. 1935. 1934. 1933.\n",
            " 1932. 1931. 1930. 1929. 1928. 1927. 1926. 1925. 1924. 1923. 1922. 1921.\n",
            " 1920. 1919. 1918. 1917. 1916. 1915. 1914. 1913. 1912. 1911. 1910. 1909.\n",
            " 1908. 1907. 1906. 1905. 1904. 1903. 1902. 1901. 1900. 1899. 1898. 1897.\n",
            " 1896. 1895. 1894. 1893. 1892. 1891. 1890. 1889. 1888. 1887. 1886. 1885.\n",
            " 1884. 1883. 1882. 1881. 1880. 1879. 1878. 1877. 1876. 1875. 1874. 1873.\n",
            " 1872. 1871. 1870. 1869. 1868. 1867. 1866. 1865. 1864. 1863. 1862. 1861.\n",
            " 1860. 1859. 1858. 1857. 1856. 1855. 1853. 1852. 1851. 1850. 1849. 1847.\n",
            " 1846. 1845. 1844. 1842. 1841. 1840. 1839. 1837. 1836. 1835. 1834. 1832.\n",
            " 1831. 1830. 1829. 1828. 1827. 1826. 1825. 1823. 1822. 1819. 1818. 1817.\n",
            " 1816. 1815. 1812. 1811. 1810. 1808. 1807. 1805. 1804. 1803. 1802. 1801.\n",
            " 1800. 1797. 1792. 1791. 1788. 1787. 1786. 1785. 1784. 1783. 1780. 1779.\n",
            " 1776. 1771. 1767. 1764. 1758. 1753. 1751. 1749. 1755. 1748. 1742. 1738.\n",
            " 1733. 1723. 1721. 1703. 1700. 1642. 1691. 1640. 1638. 1637. 1617. 1595.\n",
            " 1580. 1555. 1554. 1543. 1518. 1500. 1000.   77.    5.    0.]\n",
            "Year\n",
            "0.0       129\n",
            "5.0         1\n",
            "77.0        1\n",
            "1000.0      1\n",
            "1500.0      1\n",
            "         ... \n",
            "2022.0     98\n",
            "2023.0    109\n",
            "2024.0     49\n",
            "2025.0      6\n",
            "2026.0      1\n",
            "Name: count, Length: 261, dtype: int64\n",
            "[2025. 2024. 2026. 2023. 2022. 2021. 2020. 2019. 2018. 2017.   nan 2016.\n",
            " 2015. 2014. 2013. 2012. 2011. 2010. 2009. 2008. 2007. 2006. 2005. 2004.\n",
            " 2003. 2002. 2001. 2000. 1999. 1998. 1997. 1996. 1995. 1984. 1994. 1993.\n",
            " 1992. 1991. 1990. 1989. 1969. 1988. 1987. 1986. 1985. 1983. 1982. 1981.\n",
            " 1980. 1979. 1978. 1977. 1976. 1975. 1974. 1973. 1972. 1971. 1970. 1968.\n",
            " 1967. 1966. 1965. 1964. 1963. 1962. 1961. 1960. 1959. 1958. 1957. 1956.\n",
            " 1955. 1954. 1953. 1952. 1951. 1950. 1949. 1948. 1848. 1947. 1946. 1945.\n",
            " 1944. 1943. 1942. 1941. 1940. 1939. 1938. 1937. 1936. 1935. 1934. 1933.\n",
            " 1932. 1931. 1930. 1929. 1928. 1927. 1926. 1925. 1924. 1923. 1922. 1921.\n",
            " 1920. 1919. 1918. 1917. 1916. 1915. 1914. 1913. 1912. 1911. 1910. 1909.\n",
            " 1908. 1907. 1906. 1905. 1904. 1903. 1902. 1901. 1900. 1899. 1898. 1897.\n",
            " 1896. 1895. 1894. 1893. 1892. 1891. 1890. 1889. 1888. 1887. 1886. 1885.\n",
            " 1884. 1883. 1882. 1881. 1880. 1879. 1878. 1877. 1876. 1875. 1874. 1873.\n",
            " 1872. 1871. 1870. 1869. 1868. 1867. 1866. 1865. 1864. 1863. 1862. 1861.\n",
            " 1860. 1859. 1858. 1857. 1856. 1855. 1853. 1852. 1851. 1850. 1849. 1847.\n",
            " 1846. 1845. 1844. 1842. 1841. 1840. 1839. 1837. 1836. 1835. 1834. 1832.\n",
            " 1831. 1830. 1829. 1828. 1827. 1826. 1825. 1823. 1822. 1819. 1818. 1817.\n",
            " 1816. 1815. 1812. 1811. 1810. 1808. 1807. 1805. 1804. 1803. 1802. 1801.\n",
            " 1800. 1797. 1792. 1791. 1788. 1787. 1786. 1785. 1784. 1783. 1780. 1779.\n",
            " 1776. 1771. 1767. 1764. 1758. 1753. 1751. 1749. 1755. 1748. 1742. 1738.\n",
            " 1733. 1723. 1721. 1703. 1700. 1642. 1691. 1640. 1638. 1637. 1617. 1595.\n",
            " 1580. 1555. 1554. 1543. 1518. 1500. 1000.   77.    5.    0.]\n"
          ]
        }
      ]
    },
    {
      "cell_type": "code",
      "source": [
        "new_df['Year'] = pd.to_numeric(new_df['Year'], errors='coerce')\n",
        "\n",
        "df_cleaned = new_df.dropna(subset=['Year'])\n",
        "\n",
        "df_cleaned['Year'] = df_cleaned['Year'].astype(int)\n",
        "\n",
        "print(df_cleaned['Year'].min(), df_cleaned['Year'].max())\n"
      ],
      "metadata": {
        "colab": {
          "base_uri": "https://localhost:8080/"
        },
        "id": "QSiC4Hzp_QRA",
        "outputId": "30a20448-d812-4e1b-e0f5-b719a47a789f"
      },
      "id": "QSiC4Hzp_QRA",
      "execution_count": null,
      "outputs": [
        {
          "output_type": "stream",
          "name": "stdout",
          "text": [
            "0 2026\n"
          ]
        },
        {
          "output_type": "stream",
          "name": "stderr",
          "text": [
            "<ipython-input-53-62a0d61d4fae>:5: SettingWithCopyWarning: \n",
            "A value is trying to be set on a copy of a slice from a DataFrame.\n",
            "Try using .loc[row_indexer,col_indexer] = value instead\n",
            "\n",
            "See the caveats in the documentation: https://pandas.pydata.org/pandas-docs/stable/user_guide/indexing.html#returning-a-view-versus-a-copy\n",
            "  df_cleaned['Year'] = df_cleaned['Year'].astype(int)\n"
          ]
        }
      ]
    },
    {
      "cell_type": "markdown",
      "source": [
        "The range of years is between the year 0 in 2026"
      ],
      "metadata": {
        "id": "2SoWHsrXAPD3"
      },
      "id": "2SoWHsrXAPD3"
    },
    {
      "cell_type": "code",
      "source": [
        "df_filtered = df_cleaned[df_cleaned['Year'] >= 1940]\n",
        "\n",
        "print(df_filtered['Year'].describe())\n"
      ],
      "metadata": {
        "colab": {
          "base_uri": "https://localhost:8080/"
        },
        "id": "EGm9XfG4_4DD",
        "outputId": "5faa3ff5-11de-49f6-c24a-5aaa0257ade5"
      },
      "id": "EGm9XfG4_4DD",
      "execution_count": null,
      "outputs": [
        {
          "output_type": "stream",
          "name": "stdout",
          "text": [
            "count    5458.000000\n",
            "mean     1991.937156\n",
            "std        24.083712\n",
            "min      1940.000000\n",
            "25%      1969.000000\n",
            "50%      2000.000000\n",
            "75%      2013.000000\n",
            "max      2026.000000\n",
            "Name: Year, dtype: float64\n"
          ]
        }
      ]
    },
    {
      "cell_type": "code",
      "source": [
        "\n",
        "attacks_per_year = df_filtered['Year'].value_counts().sort_index()\n",
        "\n",
        "plt.figure(figsize=(12, 6))\n",
        "plt.plot(attacks_per_year.index, attacks_per_year.values, marker='o', linestyle='-')\n",
        "plt.xlabel('Year')\n",
        "plt.ylabel('Number of Shark Attacks')\n",
        "plt.title('Shark Attacks Over Time (Since 1940)')\n",
        "plt.grid(True)\n",
        "plt.show()\n"
      ],
      "metadata": {
        "colab": {
          "base_uri": "https://localhost:8080/",
          "height": 359
        },
        "id": "kdCpO1iAAkll",
        "outputId": "80fbf2a2-5f35-45cc-bbdc-3e626c8c85f2"
      },
      "id": "kdCpO1iAAkll",
      "execution_count": null,
      "outputs": [
        {
          "output_type": "display_data",
          "data": {
            "text/plain": [
              "<Figure size 1200x600 with 1 Axes>"
            ],
            "image/png": "[encoded data removed]"
          },
          "metadata": {}
        }
      ]
    },
    {
      "cell_type": "markdown",
      "source": [
        "Based on the graph, it seems that attacks are increasing over time."
      ],
      "metadata": {
        "id": "UiFh51u0BUSH"
      },
      "id": "UiFh51u0BUSH"
    },
    {
      "cell_type": "markdown",
      "source": [
        "Part 4"
      ],
      "metadata": {
        "id": "1lA4_C6EBiIk"
      },
      "id": "1lA4_C6EBiIk"
    },
    {
      "cell_type": "code",
      "source": [
        "print(df_cleaned['Age'].describe())\n",
        "\n",
        "print(df_cleaned['Age'].unique())"
      ],
      "metadata": {
        "colab": {
          "base_uri": "https://localhost:8080/"
        },
        "id": "cvm-885lBr9K",
        "outputId": "266216a7-17d5-49d4-d4a4-231ad236147e"
      },
      "id": "cvm-885lBr9K",
      "execution_count": null,
      "outputs": [
        {
          "output_type": "stream",
          "name": "stdout",
          "text": [
            "count     3997\n",
            "unique     246\n",
            "top         16\n",
            "freq        92\n",
            "Name: Age, dtype: int64\n",
            "[12 37 23 40 28 69 48 '60+' '?' 57 24 45 61 27 38 16 33 30 15 41 14 26\n",
            " 'Middle age' 18 21 49 25 46 19 20 65 64 '13' nan '11' '46' '32' '29' '10'\n",
            " '64' '62' '39' '22' '15' '16' '21' '66' '52' '20' '44' '26' '47' '55'\n",
            " '30' '59' '8' '50' '45' '34' '38' '30s' '37' '9' '19' '20/30' '35' '65'\n",
            " '20s' '77' '60' '49' '42' '!2' '24' '73' '25' '18' '50s' '58' '67' '17'\n",
            " '14' '6' '41' '53' '68' '43' '40' '51' '31' 39 58 51 17 10 13 60 '40s' 68\n",
            " 35 62 'teen' 8 22 32 56 'Teen' 42 36 50 'M' 9 11 34 '!6' 31 '!!' 47 55 7\n",
            " 71 59 53 54 75 '45 and 15' 73 52 29 70 4 63 44 '28 & 22' '22, 57, 31'\n",
            " '60s' \"20's\" 43 67 74 '9 & 60' 'a minor' 6 3 82 66 72 '23' '12' '36' '63'\n",
            " '71' '48' '70' '18 months' '57' '7' '28' '33' '61' '74' '27' '3' '56'\n",
            " '28 & 26' '5' '54' '86' '18 or 20' '12 or 13' '46 & 34' '28, 23 & 30'\n",
            " 'Teens' 77 '36 & 26' '8 or 10' 84 '\\xa0 ' ' ' '30 or 36' '6½' '21 & ?'\n",
            " '33 or 37' 'mid-30s' '23 & 20' 5 ' 30' '7      &    31' ' 28' '20?'\n",
            " \"60's\" '69' '32 & 30' '16 to 18' '87' 'Elderly' 'mid-20s' 'Ca. 33' '74 '\n",
            " '45 ' '21 or 26' '20 ' '>50' '18 to 22' 'adult' '9 & 12' '? & 19'\n",
            " '9 months' '25 to 35' '23 & 26' 1 '(adult)' '33 & 37' '25 or 28'\n",
            " '37, 67, 35, 27,  ? & 27' '21, 34,24 & 35' '30 & 32' '50 & 30' '17 & 35'\n",
            " 'X' '\"middle-age\"' '13 or 18' '34 & 19' '33 & 26' '2 to 3 months' '4'\n",
            " 'MAKE LINE GREEN' ' 43' '81' '\"young\"' '7 or 8' 78 '17 & 16' 'F'\n",
            " 'Both 11' '9 or 10' 'young' '36 & 23' '  ' '78' 'A.M.' '?    &   14'\n",
            " '10 or 12' '31 or 33' '2½' '1' '13 or 14']\n"
          ]
        }
      ]
    },
    {
      "cell_type": "code",
      "source": [
        "df_cleaned['Age'] = df_cleaned['Age'].astype(str).str.extract(r'(\\d+)')\n",
        "\n",
        "df_cleaned['Age'] = pd.to_numeric(df_cleaned['Age'], errors='coerce')\n",
        "\n",
        "df_cleaned = df_cleaned.dropna(subset=['Age'])\n",
        "\n",
        "df_cleaned['Age'] = df_cleaned['Age'].astype(int)\n",
        "\n",
        "\n",
        "print(df_cleaned['Age'].describe())\n",
        "plt.figure(figsize=(10, 5))\n",
        "plt.hist(df_cleaned['Age'], bins=20, edgecolor='black')\n",
        "plt.xlabel('Age of Victims')\n",
        "plt.ylabel('Frequency')\n",
        "plt.title('Histogram of Victim Ages in Shark Attacks')\n",
        "plt.grid(axis='y', linestyle='--', alpha=0.7)\n",
        "plt.show()\n"
      ],
      "metadata": {
        "colab": {
          "base_uri": "https://localhost:8080/",
          "height": 520
        },
        "id": "2BdJbZG5CLvW",
        "outputId": "bcdc5a50-2fcf-460f-9e4b-39d4f5090458"
      },
      "id": "2BdJbZG5CLvW",
      "execution_count": null,
      "outputs": [
        {
          "output_type": "stream",
          "name": "stdout",
          "text": [
            "count    3957.000000\n",
            "mean       28.070003\n",
            "std        14.577324\n",
            "min         1.000000\n",
            "25%        17.000000\n",
            "50%        24.000000\n",
            "75%        37.000000\n",
            "max        87.000000\n",
            "Name: Age, dtype: float64\n"
          ]
        },
        {
          "output_type": "display_data",
          "data": {
            "text/plain": [
              "<Figure size 1000x500 with 1 Axes>"
            ],
            "image/png": "[encoded data removed]"
          },
          "metadata": {}
        }
      ]
    },
    {
      "cell_type": "markdown",
      "source": [
        "Part 5"
      ],
      "metadata": {
        "id": "FAEuQHuED_AA"
      },
      "id": "FAEuQHuED_AA"
    },
    {
      "cell_type": "code",
      "source": [
        "print(df_cleaned['Sex'].unique())"
      ],
      "metadata": {
        "colab": {
          "base_uri": "https://localhost:8080/"
        },
        "id": "VHT-EdM9D-fV",
        "outputId": "427edf84-4680-4a1e-c169-c892e9399fd3"
      },
      "id": "VHT-EdM9D-fV",
      "execution_count": null,
      "outputs": [
        {
          "output_type": "stream",
          "name": "stdout",
          "text": [
            "['M' 'F' nan ' M' 'M ' 'lli']\n"
          ]
        }
      ]
    },
    {
      "cell_type": "code",
      "source": [
        "df_cleaned['Sex'] = df_cleaned['Sex'].astype(str).str.strip().str.upper()\n",
        "\n",
        "df_cleaned['Sex'] = df_cleaned['Sex'].replace({\n",
        "    'MALE': 'M',\n",
        "    'FEMALE': 'F',\n",
        "    'LLI': None\n",
        "})\n",
        "\n",
        "df_cleaned = df_cleaned[df_cleaned['Sex'].isin(['M', 'F'])]\n",
        "\n",
        "print(df_cleaned['Sex'].value_counts())\n"
      ],
      "metadata": {
        "colab": {
          "base_uri": "https://localhost:8080/"
        },
        "id": "6qiXTe5KFjgR",
        "outputId": "7522748c-b080-45e1-dc96-458d98cffecd"
      },
      "id": "6qiXTe5KFjgR",
      "execution_count": null,
      "outputs": [
        {
          "output_type": "stream",
          "name": "stdout",
          "text": [
            "Sex\n",
            "M    3334\n",
            "F     583\n",
            "Name: count, dtype: int64\n"
          ]
        }
      ]
    },
    {
      "cell_type": "code",
      "source": [
        "total_victims = len(df_cleaned)\n",
        "\n",
        "male_victims = (df_cleaned['Sex'] == 'M').sum()\n",
        "\n",
        "male_proportion = male_victims / total_victims\n",
        "\n",
        "print(f\"Proportion of male victims: {male_proportion:.2%}\")\n"
      ],
      "metadata": {
        "colab": {
          "base_uri": "https://localhost:8080/"
        },
        "id": "jPkFkPqNF28z",
        "outputId": "db176692-6efb-48e4-8bcd-d3e7b0ae4f42"
      },
      "id": "jPkFkPqNF28z",
      "execution_count": null,
      "outputs": [
        {
          "output_type": "stream",
          "name": "stdout",
          "text": [
            "Proportion of male victims: 85.12%\n"
          ]
        }
      ]
    },
    {
      "cell_type": "markdown",
      "source": [
        "Part 6"
      ],
      "metadata": {
        "id": "jrrA06qBGZwb"
      },
      "id": "jrrA06qBGZwb"
    },
    {
      "cell_type": "code",
      "source": [
        "print(df_cleaned['Type'].unique())\n"
      ],
      "metadata": {
        "colab": {
          "base_uri": "https://localhost:8080/"
        },
        "id": "n6sxcWuNGpYa",
        "outputId": "adebc29a-3923-404d-9349-e3bb86e1fbfb"
      },
      "id": "n6sxcWuNGpYa",
      "execution_count": null,
      "outputs": [
        {
          "output_type": "stream",
          "name": "stdout",
          "text": [
            "['Unprovoked' 'Provoked' 'Questionable' 'Watercraft' 'Sea Disaster' '?'\n",
            " nan 'Invalid' 'Under investigation']\n"
          ]
        }
      ]
    },
    {
      "cell_type": "code",
      "source": [
        "df_cleaned['Type'] = df_cleaned['Type'].astype(str).str.strip().str.upper()\n",
        "\n",
        "type_mapping = {\n",
        "    'PROVOKED': 'Provoked',\n",
        "    'UNPROVOKED': 'Unprovoked',\n",
        "    '?': 'Unknown',\n",
        "    'SEA DISASTER': 'Unprovoked',\n",
        "    'WATERCRAFT': 'Unknown',\n",
        "    'INVALID': 'Unknown',\n",
        "    'UNDER INVESTIGATION': 'Unknown'\n",
        "}\n",
        "\n",
        "df_cleaned['Type'] = df_cleaned['Type'].replace(type_mapping)\n",
        "\n",
        "df_cleaned.loc[~df_cleaned['Type'].isin(['Provoked', 'Unprovoked', 'Unknown']), 'Type'] = 'Unknown'\n",
        "\n",
        "print(df_cleaned['Type'].value_counts())\n"
      ],
      "metadata": {
        "colab": {
          "base_uri": "https://localhost:8080/"
        },
        "id": "Ys9Za2_LGyEq",
        "outputId": "b878fc7c-6dfe-4ba9-87f9-d522bb2f8efe"
      },
      "id": "Ys9Za2_LGyEq",
      "execution_count": null,
      "outputs": [
        {
          "output_type": "stream",
          "name": "stdout",
          "text": [
            "Type\n",
            "Unprovoked    3295\n",
            "Unknown        313\n",
            "Provoked       309\n",
            "Name: count, dtype: int64\n"
          ]
        }
      ]
    },
    {
      "cell_type": "code",
      "source": [
        "total_attacks = len(df_cleaned)\n",
        "\n",
        "unprovoked_attacks = (df_cleaned['Type'] == 'Unprovoked').sum()\n",
        "\n",
        "unprovoked_proportion = unprovoked_attacks / total_attacks\n",
        "\n",
        "print(f\"Proportion of unprovoked attacks: {unprovoked_proportion:.2%}\")\n"
      ],
      "metadata": {
        "colab": {
          "base_uri": "https://localhost:8080/"
        },
        "id": "MlLy2eThIeMa",
        "outputId": "02b190d3-5f83-4b01-c21f-0f3bdf4c1c06"
      },
      "id": "MlLy2eThIeMa",
      "execution_count": null,
      "outputs": [
        {
          "output_type": "stream",
          "name": "stdout",
          "text": [
            "Proportion of unprovoked attacks: 84.12%\n"
          ]
        }
      ]
    },
    {
      "cell_type": "markdown",
      "source": [
        "Part 7"
      ],
      "metadata": {
        "id": "ksgRgJItQHD5"
      },
      "id": "ksgRgJItQHD5"
    },
    {
      "cell_type": "code",
      "source": [
        "print(df_cleaned['Fatal Y/N'].unique())\n"
      ],
      "metadata": {
        "colab": {
          "base_uri": "https://localhost:8080/"
        },
        "id": "4LNJWnXwQIxe",
        "outputId": "d6590780-6828-4b1c-815a-a8fa0baf711a"
      },
      "id": "4LNJWnXwQIxe",
      "execution_count": null,
      "outputs": [
        {
          "output_type": "stream",
          "name": "stdout",
          "text": [
            "['N' 'Y' 'F' nan 'n' 'M' 2017 'UNKNOWN' ' N']\n"
          ]
        }
      ]
    },
    {
      "cell_type": "code",
      "source": [
        "df_cleaned['Fatal Y/N'] = df_cleaned['Fatal Y/N'].astype(str).str.strip().str.upper()\n",
        "\n",
        "fatal_mapping = {\n",
        "    'Y': 'Y',\n",
        "    'N': 'N',\n",
        "    'N ': 'N',\n",
        "    'F': 'Unknown',\n",
        "    'M': 'Unknown',\n",
        "    'UNKNOWN': 'Unknown',\n",
        "    'NAN': 'Unknown'\n",
        "}\n",
        "\n",
        "df_cleaned['Fatal Y/N'] = df_cleaned['Fatal Y/N'].replace(fatal_mapping)\n",
        "\n",
        "df_cleaned.loc[~df_cleaned['Fatal Y/N'].isin(['Y', 'N', 'Unknown']), 'Fatal Y/N'] = 'Unknown'\n",
        "\n",
        "print(df_cleaned['Fatal Y/N'].value_counts())\n"
      ],
      "metadata": {
        "colab": {
          "base_uri": "https://localhost:8080/"
        },
        "id": "IGiStcZSQTq1",
        "outputId": "a6dd45f7-52e5-44a3-d433-4b80af20bb59"
      },
      "id": "IGiStcZSQTq1",
      "execution_count": null,
      "outputs": [
        {
          "output_type": "stream",
          "name": "stdout",
          "text": [
            "Fatal Y/N\n",
            "N          2994\n",
            "Y           676\n",
            "Unknown     247\n",
            "Name: count, dtype: int64\n"
          ]
        }
      ]
    },
    {
      "cell_type": "markdown",
      "source": [
        "Part 8"
      ],
      "metadata": {
        "id": "ossq76F2RbgH"
      },
      "id": "ossq76F2RbgH"
    },
    {
      "cell_type": "code",
      "source": [
        "unprovoked_attacks = df_cleaned[df_cleaned['Type'] == 'Unprovoked']\n",
        "\n",
        "gender_unprovoked_counts = unprovoked_attacks['Sex'].value_counts()\n",
        "\n",
        "gender_unprovoked_proportion = gender_unprovoked_counts / gender_unprovoked_counts.sum()\n",
        "\n",
        "print(\"Proportion of Unprovoked Attacks by Gender:\")\n",
        "print(gender_unprovoked_proportion)\n"
      ],
      "metadata": {
        "colab": {
          "base_uri": "https://localhost:8080/"
        },
        "id": "L_ckcpwYRveM",
        "outputId": "a52f9b48-b501-4fc9-cb08-015489af292f"
      },
      "id": "L_ckcpwYRveM",
      "execution_count": null,
      "outputs": [
        {
          "output_type": "stream",
          "name": "stdout",
          "text": [
            "Proportion of Unprovoked Attacks by Gender:\n",
            "Sex\n",
            "M    0.845827\n",
            "F    0.154173\n",
            "Name: count, dtype: float64\n"
          ]
        }
      ]
    },
    {
      "cell_type": "code",
      "source": [
        "fatal_by_type = df_cleaned.groupby('Type')['Fatal Y/N'].value_counts(normalize=True).unstack()\n",
        "\n",
        "print(\"Fatality Rate by Type of Attack:\")\n",
        "print(fatal_by_type)\n"
      ],
      "metadata": {
        "colab": {
          "base_uri": "https://localhost:8080/"
        },
        "id": "au0r1_1wR4Qc",
        "outputId": "dca675f0-9523-4af5-94bf-fd5e4c093ffd"
      },
      "id": "au0r1_1wR4Qc",
      "execution_count": null,
      "outputs": [
        {
          "output_type": "stream",
          "name": "stdout",
          "text": [
            "Fatality Rate by Type of Attack:\n",
            "Fatal Y/N          N   Unknown         Y\n",
            "Type                                    \n",
            "Provoked    0.961165  0.009709  0.029126\n",
            "Unknown     0.236422  0.725240  0.038339\n",
            "Unprovoked  0.796055  0.005159  0.198786\n"
          ]
        }
      ]
    },
    {
      "cell_type": "code",
      "source": [
        "fatal_by_gender = df_cleaned.groupby('Sex')['Fatal Y/N'].value_counts(normalize=True).unstack()\n",
        "\n",
        "print(\"Fatality Rate by Gender:\")\n",
        "print(fatal_by_gender)\n"
      ],
      "metadata": {
        "colab": {
          "base_uri": "https://localhost:8080/"
        },
        "id": "hmC-oa5PSJz6",
        "outputId": "6da96fd2-bdbe-4ab7-ad33-db7b3220fbb6"
      },
      "id": "hmC-oa5PSJz6",
      "execution_count": null,
      "outputs": [
        {
          "output_type": "stream",
          "name": "stdout",
          "text": [
            "Fatality Rate by Gender:\n",
            "Fatal Y/N         N   Unknown         Y\n",
            "Sex                                    \n",
            "F          0.789022  0.070326  0.140652\n",
            "M          0.760048  0.061788  0.178164\n"
          ]
        }
      ]
    },
    {
      "cell_type": "markdown",
      "source": [
        "Sharks are more likely to attack a male unprovoked, a fatal attack is more likely to be unprovoked, and it is more likely to be fatal when it is a male. I think sharks are a fascinating yet necessary member of the ecosystem."
      ],
      "metadata": {
        "id": "DQsliOGxSQk-"
      },
      "id": "DQsliOGxSQk-"
    },
    {
      "cell_type": "markdown",
      "source": [
        "Part 9"
      ],
      "metadata": {
        "id": "YmrQjP6wZHmR"
      },
      "id": "YmrQjP6wZHmR"
    },
    {
      "cell_type": "code",
      "source": [
        "print(df_cleaned['Species '].unique())\n"
      ],
      "metadata": {
        "colab": {
          "base_uri": "https://localhost:8080/"
        },
        "id": "wBf7n9GWbHSA",
        "outputId": "8c7f5f7b-e71f-45aa-8b99-67016b58c2e2"
      },
      "id": "wBf7n9GWbHSA",
      "execution_count": null,
      "outputs": [
        {
          "output_type": "stream",
          "name": "stdout",
          "text": [
            "['Not stated' 'Bronze whaler' 'Reportedly Tiger or Bull shark' ...\n",
            " \"Nurse shark, 2.1 m [7'] \" '\"A pack of sharks\"' \"12' tiger shark\"]\n"
          ]
        }
      ]
    },
    {
      "cell_type": "code",
      "source": [
        "df_cleaned['Species '] = df_cleaned['Species '].astype(str).str.strip().str.upper()\n",
        "\n",
        "white_shark_attacks = df_cleaned[df_cleaned['Species '].str.contains('WHITE', na=False)]\n",
        "\n",
        "total_attacks = len(df_cleaned)\n",
        "\n",
        "white_shark_count = len(white_shark_attacks)\n",
        "\n",
        "white_shark_proportion = white_shark_count / total_attacks\n",
        "\n",
        "print(f\"Proportion of attacks by White Sharks: {white_shark_proportion:.2%}\")\n"
      ],
      "metadata": {
        "colab": {
          "base_uri": "https://localhost:8080/"
        },
        "id": "emlJUCOJbiuT",
        "outputId": "2c8dc228-1f02-440f-be87-eb9028dda4e5"
      },
      "id": "emlJUCOJbiuT",
      "execution_count": null,
      "outputs": [
        {
          "output_type": "stream",
          "name": "stdout",
          "text": [
            "Proportion of attacks by White Sharks: 12.61%\n"
          ]
        }
      ]
    },
    {
      "cell_type": "markdown",
      "id": "5735a4d4-8be8-433a-a351-70eb8002e632",
      "metadata": {
        "id": "5735a4d4-8be8-433a-a351-70eb8002e632"
      },
      "source": [
        "**Q3.** Open the \"tidy_data.pdf\" document in the repo, which is a paper called Tidy Data by Hadley Wickham.\n",
        "\n",
        "  1. Read the abstract. What is this paper about?\n",
        "  2. Read the introduction. What is the \"tidy data standard\" intended to accomplish?\n",
        "  3. Read the intro to section 2. What does this sentence mean: \"Like families, tidy datasets are all alike but every messy dataset is messy in its own way.\" What does this sentence mean: \"For a given dataset, it’s usually easy to figure out what are observations and what are variables, but it is surprisingly difficult to precisely define variables and observations in general.\"\n",
        "  4. Read Section 2.2. How does Wickham define values, variables, and observations?\n",
        "  5. How is \"Tidy Data\" defined in section 2.3?\n",
        "  6. Read the intro to Section 3 and Section 3.1. What are the 5 most common problems with messy datasets? Why are the data in Table 4 messy? What is \"melting\" a dataset?\n",
        "  7. Why, specifically, is table 11 messy but table 12 tidy and \"molten\"?\n",
        "  8. Read Section 6. What is the \"chicken-and-egg\" problem with focusing on tidy data? What does Wickham hope happens in the future with further work on the subject of data wrangling?"
      ]
    },
    {
      "cell_type": "markdown",
      "source": [
        "1. This paper is about how to find the easiest and most efficient way to clean data and datasets."
      ],
      "metadata": {
        "id": "weRf_duZI9-z"
      },
      "id": "weRf_duZI9-z"
    },
    {
      "cell_type": "markdown",
      "source": [
        "2. It is intended to provide a standard wya to organize data. It is intendted to simplify the initial exploration so you spend less time cleaning the data and more time at the domain of the problem."
      ],
      "metadata": {
        "id": "ni0TOiFSJb7y"
      },
      "id": "ni0TOiFSJb7y"
    },
    {
      "cell_type": "markdown",
      "source": [
        "3. The first sentence means that there are tons of nuances and different ways that data can be orignally uploaded. Making there to be numerous problems and numerous ways to fix them. The second sentence means that despite the struccture of a dataset being self explanatory, there can be many problems that arise when actually knowing what a value, whether a variable or an observation, actually pertains to. This could be due to faulty labeling or a myriad of other issues."
      ],
      "metadata": {
        "id": "EUi0D1-EL52c"
      },
      "id": "EUi0D1-EL52c"
    },
    {
      "cell_type": "markdown",
      "source": [
        "4. Values are what a dataset is comprised of, and is usually either numbers or strings. A variable is what contains all values that measure the same underlying attribute across units. An observation contains all values measured on the same unit across attributes."
      ],
      "metadata": {
        "id": "cvwIYbtRL3t_"
      },
      "id": "cvwIYbtRL3t_"
    },
    {
      "cell_type": "markdown",
      "source": [
        "5. Tidy data is defined as a dataset in which each variable forms a column, each observation forms a row, and each type of observational unti forms a table."
      ],
      "metadata": {
        "id": "JhuCbbiGMgzo"
      },
      "id": "JhuCbbiGMgzo"
    },
    {
      "cell_type": "markdown",
      "source": [
        "6. The five most common problems are: column headers are values, not variable names, multiple variables are stored in one column, variables are stored in both rows and columns, multiple types of observational units are stored in the same table, a single observational unit is stored in multiple tables. The problem with table 4 is that it has 3 variables, but lacks the accurate column variables. Each of the 3 variables should be listed as column instead of a row. Melting a data set is when you change the dataset from wide to long and columns are created out of the previous values and observations."
      ],
      "metadata": {
        "id": "E34xDhREMzT8"
      },
      "id": "E34xDhREMzT8"
    },
    {
      "cell_type": "markdown",
      "source": [
        "7. Table 11 is filled with many nonsensical columns that can be condensed into one date column. Table 12 provides much more information that is easier to analyze."
      ],
      "metadata": {
        "id": "1zyp5-bXZFrN"
      },
      "id": "1zyp5-bXZFrN"
    },
    {
      "cell_type": "markdown",
      "source": [
        "8. Basically the chicken and egg problem is describing how the tidy tools will only be able to be used to true potential with the tidy form of data. But there maybe more alternative formulations of tidyness that benefit with the data being from a certain shape and structure. Wickham hopes that in the future, tools will be developed to help aid along the other tasks regarding data cleaning. Such as identifying missing values, parsing dates and number, correcting character encodings."
      ],
      "metadata": {
        "id": "XS3UAN80ZkQz"
      },
      "id": "XS3UAN80ZkQz"
    },
    {
      "cell_type": "code",
      "source": [],
      "metadata": {
        "id": "3Gd-T-RoZjvX"
      },
      "id": "3Gd-T-RoZjvX",
      "execution_count": null,
      "outputs": []
    },
    {
      "cell_type": "markdown",
      "id": "649494cd-cfd6-4f80-992a-9994fc19e1d5",
      "metadata": {
        "id": "649494cd-cfd6-4f80-992a-9994fc19e1d5"
      },
      "source": [
        "**Q4.** Many important datasets contain a race variable, typically limited to a handful of values often including Black, White, Asian, Latino, and Indigenous. This question looks at data gathering efforts on this variable by the U.S. Federal government.\n",
        "\n",
        "1. How did the most recent US Census gather data on race?\n",
        "2. Why do we gather these data? What role do these kinds of data play in politics and society? Why does data quality matter?\n",
        "3. Please provide a constructive criticism of how the Census was conducted: What was done well? What do you think was missing? How should future large scale surveys be adjusted to best reflect the diversity of the population? Could some of the Census' good practices be adopted more widely to gather richer and more useful data?\n",
        "4. How did the Census gather data on sex and gender? Please provide a similar constructive criticism of their practices.\n",
        "5. When it comes to cleaning data, what concerns do you have about protected characteristics like sex, gender, sexual identity, or race? What challenges can you imagine arising when there are missing values? What good or bad practices might people adopt, and why?\n",
        "6. Suppose someone invented an algorithm to impute values for protected characteristics like race, gender, sex, or sexuality. What kinds of concerns would you have?"
      ]
    }
  ],
  "metadata": {
    "colab": {
      "provenance": [],
      "name": "wrangling_assignment_completed.ipynb"
    },
    "kernelspec": {
      "display_name": "Python 3 (ipykernel)",
      "language": "python",
      "name": "python3"
    },
    "language_info": {
      "codemirror_mode": {
        "name": "ipython",
        "version": 3
      },
      "file_extension": ".py",
      "mimetype": "text/x-python",
      "name": "python",
      "nbconvert_exporter": "python",
      "pygments_lexer": "ipython3",
      "version": "3.10.4"
    }
  },
  "nbformat": 4,
  "nbformat_minor": 5
}